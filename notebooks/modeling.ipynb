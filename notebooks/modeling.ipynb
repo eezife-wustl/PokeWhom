{
 "cells": [
  {
   "cell_type": "markdown",
   "metadata": {},
   "source": [
    "# PokeWhom Project"
   ]
  },
  {
   "cell_type": "markdown",
   "metadata": {},
   "source": [
    "## Imports"
   ]
  },
  {
   "cell_type": "code",
   "execution_count": 341,
   "metadata": {},
   "outputs": [],
   "source": [
    "import sklearn\n",
    "from sklearn.feature_extraction.text import CountVectorizer\n",
    "from sklearn.feature_extraction.text import TfidfVectorizer\n",
    "from sklearn.linear_model import LogisticRegression\n",
    "from sklearn.linear_model import LogisticRegressionCV\n",
    "from sklearn.preprocessing import LabelEncoder\n",
    "from sklearn.model_selection import train_test_split\n",
    "import numpy as np # linear algebra\n",
    "import pandas as pd # data processing, CSV file I/O (e.g. pd.read_csv)\n",
    "from sklearn.metrics import classification_report\n",
    "import matplotlib.pyplot as plt\n",
    "import nltk\n",
    "from sklearn.svm import LinearSVC\n",
    "from nltk.corpus import stopwords\n",
    "import imblearn\n",
    "from sklearn.naive_bayes import BernoulliNB\n",
    "from imblearn.over_sampling import RandomOverSampler\n",
    "from sklearn.naive_bayes import MultinomialNB\n",
    "from collections import Counter\n"
   ]
  },
  {
   "cell_type": "markdown",
   "metadata": {},
   "source": [
    "## Read Data and Clean"
   ]
  },
  {
   "cell_type": "code",
   "execution_count": 404,
   "metadata": {},
   "outputs": [
    {
     "name": "stderr",
     "output_type": "stream",
     "text": [
      "[nltk_data] Downloading package stopwords to /home/db/nltk_data...\n",
      "[nltk_data]   Package stopwords is already up-to-date!\n"
     ]
    },
    {
     "data": {
      "text/plain": [
       "type_primary\n",
       "water       134\n",
       "normal      118\n",
       "grass       103\n",
       "bug          83\n",
       "fire         66\n",
       "psychic      60\n",
       "electric     59\n",
       "rock         58\n",
       "dark         45\n",
       "poison       42\n",
       "ground       40\n",
       "fighting     40\n",
       "dragon       37\n",
       "steel        36\n",
       "ghost        35\n",
       "ice          31\n",
       "fairy        29\n",
       "flying        9\n",
       "Name: count, dtype: int64"
      ]
     },
     "execution_count": 404,
     "metadata": {},
     "output_type": "execute_result"
    }
   ],
   "source": [
    "# jupyter notebook\n",
    "#source venv/bin/activate\n",
    "#docker build -t my-jupyter .\n",
    "#features = pokemon descriptions, height, weight, stats?\n",
    "#labels = type\n",
    "\n",
    "def clean_type(type):\n",
    "    types = type.strip(\"{}\").split(\",\")\n",
    "    types = [t.strip().lower() for t in types]\n",
    "    if len(types) == 1:\n",
    "        return types[0]\n",
    "    return f\"{types[0]}-{types[1]}\"\n",
    "\n",
    "def type_primary(type):\n",
    "    types = type.strip(\"{}\").split(\",\")\n",
    "    types = [t.strip().lower() for t in types] \n",
    "    # if (len(types) > 1 and types[0] == \"normal\" and types[1] == \"flying\"):\n",
    "    #     return types[1]\n",
    "    return types[0]\n",
    "\n",
    "def type_secondary(type):\n",
    "    types = type.strip(\"{}\").split(\",\")\n",
    "    types = [t.strip().lower() for t in types] \n",
    "    if len(types) == 2:\n",
    "        return types[1]\n",
    "    return \"\"\n",
    "\n",
    "def remove_stopwords(description):\n",
    "    stop_words = set(stopwords.words(\"english\"))\n",
    "    words = description.split()\n",
    "    filtered = [word for word in words if word.lower() not in stop_words]\n",
    "    return \" \".join(filtered)\n",
    "    \n",
    "\n",
    "nltk.download('stopwords')\n",
    "pokemon = pd.read_csv(\"../Data/pokedex.csv\")\n",
    "pokemon[\"type_clean\"] = pokemon[\"type\"].apply(clean_type)\n",
    "pokemon[\"type_primary\"] = pokemon[\"type\"].apply(type_primary)\n",
    "pokemon[\"type_secondary\"] = pokemon[\"type\"].apply(type_secondary)\n",
    "pokemon[\"desc_clean\"] = pokemon[\"info\"].str.lower().str.replace(r\"[^a-z\\s]\", \"\", regex=True)\n",
    "pokemon[\"desc_clean\"] = pokemon[\"desc_clean\"].apply(remove_stopwords)\n",
    "pokemon[\"type_primary\"].value_counts()\n",
    "#pokemon.head(30)\n",
    "#pokemon[\"type_primary\"].value_counts().plot(kind=\"bar\")\n",
    "#there's a disproportianate amount of water and normal types?\n",
    "\n",
    "        \n",
    "\n"
   ]
  },
  {
   "cell_type": "markdown",
   "metadata": {},
   "source": [
    "## Features"
   ]
  },
  {
   "cell_type": "code",
   "execution_count": 409,
   "metadata": {},
   "outputs": [],
   "source": [
    "x = pokemon[\"desc_clean\"] #features\n",
    "y = pokemon[\"type_primary\"] #labels\n",
    "X_train, X_test, y_train, y_test = train_test_split(\n",
    "    x, y, test_size=0.2, random_state=42, stratify=y\n",
    ")\n",
    "vectorizer = CountVectorizer(ngram_range=(1, 2))\n",
    "X_train_vec = vectorizer.fit_transform(X_train)\n",
    "X_test_vec = vectorizer.transform(X_test)\n"
   ]
  },
  {
   "cell_type": "markdown",
   "metadata": {},
   "source": [
    "## Label Encoding"
   ]
  },
  {
   "cell_type": "code",
   "execution_count": 410,
   "metadata": {},
   "outputs": [
    {
     "name": "stdout",
     "output_type": "stream",
     "text": [
      "Counter({'water': 107, 'normal': 94, 'grass': 83, 'bug': 66, 'fire': 53, 'psychic': 48, 'electric': 47, 'rock': 46, 'dark': 36, 'poison': 34, 'ground': 32, 'fighting': 32, 'dragon': 30, 'steel': 29, 'ghost': 28, 'ice': 25, 'fairy': 23, 'flying': 7})\n",
      "Counter({np.int64(17): 107, np.int64(12): 94, np.int64(9): 83, np.int64(0): 66, np.int64(6): 53, np.int64(14): 48, np.int64(3): 47, np.int64(15): 46, np.int64(1): 36, np.int64(13): 34, np.int64(10): 32, np.int64(5): 32, np.int64(2): 30, np.int64(16): 29, np.int64(8): 28, np.int64(11): 25, np.int64(4): 23, np.int64(7): 7})\n",
      "Counter({np.int64(17): 27, np.int64(12): 24, np.int64(9): 20, np.int64(0): 17, np.int64(6): 13, np.int64(14): 12, np.int64(15): 12, np.int64(3): 12, np.int64(1): 9, np.int64(5): 8, np.int64(10): 8, np.int64(13): 8, np.int64(2): 7, np.int64(8): 7, np.int64(16): 7, np.int64(4): 6, np.int64(11): 6, np.int64(7): 2})\n"
     ]
    }
   ],
   "source": [
    "label_train = y_train\n",
    "label_test = y_test\n",
    "print(Counter(y_train))\n",
    "encoder = LabelEncoder()\n",
    "encoder.fit(pokemon[\"type_primary\"])\n",
    "\n",
    "label_train_enc = encoder.transform(label_train)\n",
    "label_test_enc = encoder.transform(label_test)\n",
    "print(Counter(label_train_enc))\n",
    "print(Counter(label_test_enc))\n"
   ]
  },
  {
   "cell_type": "markdown",
   "metadata": {},
   "source": [
    "## Model"
   ]
  },
  {
   "cell_type": "code",
   "execution_count": 411,
   "metadata": {},
   "outputs": [
    {
     "name": "stdout",
     "output_type": "stream",
     "text": [
      "Test label distribution: Counter({'water': 27, 'normal': 24, 'grass': 20, 'bug': 17, 'fire': 13, 'psychic': 12, 'rock': 12, 'electric': 12, 'dark': 9, 'fighting': 8, 'ground': 8, 'poison': 8, 'dragon': 7, 'ghost': 7, 'steel': 7, 'fairy': 6, 'ice': 6, 'flying': 2})\n"
     ]
    }
   ],
   "source": [
    "label_map = dict(zip(encoder.classes_, encoder.transform(encoder.classes_)))\n",
    "# ros = ros = RandomOverSampler(\n",
    "#     sampling_strategy=\"not majority\",\n",
    "#     random_state=42\n",
    "# )\n",
    "# X_train_vec,label_train_enc = ros.fit_resample(X_train_vec, label_train_enc)\n",
    "model =  LogisticRegression(max_iter=1000, class_weight=\"balanced\",solver=\"liblinear\")\n",
    "model.fit(X_train_vec, label_train_enc)\n",
    "type_pred_enc = model.predict(X_test_vec)\n",
    "type_pred = encoder.inverse_transform(type_pred_enc)\n",
    "print(\"Test label distribution:\", Counter(label_test))"
   ]
  },
  {
   "cell_type": "markdown",
   "metadata": {},
   "source": [
    "## Evaulate"
   ]
  },
  {
   "cell_type": "code",
   "execution_count": 412,
   "metadata": {},
   "outputs": [
    {
     "name": "stdout",
     "output_type": "stream",
     "text": [
      "              precision    recall  f1-score   support\n",
      "\n",
      "         bug       0.31      0.24      0.27        17\n",
      "        dark       0.00      0.00      0.00         9\n",
      "      dragon       0.00      0.00      0.00         7\n",
      "    electric       0.83      0.42      0.56        12\n",
      "       fairy       0.00      0.00      0.00         6\n",
      "    fighting       0.00      0.00      0.00         8\n",
      "        fire       0.47      0.62      0.53        13\n",
      "      flying       0.00      0.00      0.00         2\n",
      "       ghost       0.43      0.43      0.43         7\n",
      "       grass       0.44      0.55      0.49        20\n",
      "      ground       0.25      0.12      0.17         8\n",
      "         ice       0.00      0.00      0.00         6\n",
      "      normal       0.23      0.54      0.33        24\n",
      "      poison       0.67      0.25      0.36         8\n",
      "     psychic       0.31      0.42      0.36        12\n",
      "        rock       0.33      0.33      0.33        12\n",
      "       steel       0.00      0.00      0.00         7\n",
      "       water       0.35      0.48      0.41        27\n",
      "\n",
      "    accuracy                           0.34       205\n",
      "   macro avg       0.26      0.24      0.23       205\n",
      "weighted avg       0.31      0.34      0.30       205\n",
      "\n"
     ]
    },
    {
     "name": "stderr",
     "output_type": "stream",
     "text": [
      "/home/db/NLP/PokeWhom/venv/lib/python3.12/site-packages/sklearn/metrics/_classification.py:1565: UndefinedMetricWarning: Precision is ill-defined and being set to 0.0 in labels with no predicted samples. Use `zero_division` parameter to control this behavior.\n",
      "  _warn_prf(average, modifier, f\"{metric.capitalize()} is\", len(result))\n",
      "/home/db/NLP/PokeWhom/venv/lib/python3.12/site-packages/sklearn/metrics/_classification.py:1565: UndefinedMetricWarning: Precision is ill-defined and being set to 0.0 in labels with no predicted samples. Use `zero_division` parameter to control this behavior.\n",
      "  _warn_prf(average, modifier, f\"{metric.capitalize()} is\", len(result))\n",
      "/home/db/NLP/PokeWhom/venv/lib/python3.12/site-packages/sklearn/metrics/_classification.py:1565: UndefinedMetricWarning: Precision is ill-defined and being set to 0.0 in labels with no predicted samples. Use `zero_division` parameter to control this behavior.\n",
      "  _warn_prf(average, modifier, f\"{metric.capitalize()} is\", len(result))\n"
     ]
    }
   ],
   "source": [
    "print(classification_report(label_test, type_pred))"
   ]
  }
 ],
 "metadata": {
  "kernelspec": {
   "display_name": "venv",
   "language": "python",
   "name": "python3"
  },
  "language_info": {
   "codemirror_mode": {
    "name": "ipython",
    "version": 3
   },
   "file_extension": ".py",
   "mimetype": "text/x-python",
   "name": "python",
   "nbconvert_exporter": "python",
   "pygments_lexer": "ipython3",
   "version": "3.12.3"
  }
 },
 "nbformat": 4,
 "nbformat_minor": 2
}
