{
 "cells": [
  {
   "cell_type": "markdown",
   "metadata": {},
   "source": [
    "# PokeWhom Project"
   ]
  },
  {
   "cell_type": "markdown",
   "metadata": {},
   "source": [
    "## Imports"
   ]
  },
  {
   "cell_type": "code",
   "execution_count": 78,
   "metadata": {},
   "outputs": [],
   "source": [
    "import sklearn\n",
    "from sklearn.feature_extraction.text import CountVectorizer\n",
    "from sklearn.feature_extraction.text import TfidfVectorizer\n",
    "from sklearn.linear_model import LogisticRegression\n",
    "from sklearn.linear_model import LogisticRegressionCV\n",
    "from sklearn.preprocessing import LabelEncoder\n",
    "from sklearn.model_selection import train_test_split\n",
    "import ast\n",
    "import itertools\n",
    "import numpy as np # linear algebra\n",
    "import pandas as pd # data processing, CSV file I/O (e.g. pd.read_csv)\n",
    "from sklearn.metrics import classification_report\n",
    "import matplotlib.pyplot as plt\n",
    "import nltk\n",
    "from nltk.corpus import stopwords"
   ]
  },
  {
   "cell_type": "markdown",
   "metadata": {},
   "source": [
    "## Read Data and Clean"
   ]
  },
  {
   "cell_type": "code",
   "execution_count": 81,
   "metadata": {},
   "outputs": [
    {
     "name": "stderr",
     "output_type": "stream",
     "text": [
      "[nltk_data] Downloading package stopwords to /home/db/nltk_data...\n",
      "[nltk_data]   Package stopwords is already up-to-date!\n"
     ]
    },
    {
     "data": {
      "text/html": [
       "<div>\n",
       "<style scoped>\n",
       "    .dataframe tbody tr th:only-of-type {\n",
       "        vertical-align: middle;\n",
       "    }\n",
       "\n",
       "    .dataframe tbody tr th {\n",
       "        vertical-align: top;\n",
       "    }\n",
       "\n",
       "    .dataframe thead th {\n",
       "        text-align: right;\n",
       "    }\n",
       "</style>\n",
       "<table border=\"1\" class=\"dataframe\">\n",
       "  <thead>\n",
       "    <tr style=\"text-align: right;\">\n",
       "      <th></th>\n",
       "      <th>id</th>\n",
       "      <th>name</th>\n",
       "      <th>height</th>\n",
       "      <th>weight</th>\n",
       "      <th>hp</th>\n",
       "      <th>attack</th>\n",
       "      <th>defense</th>\n",
       "      <th>s_attack</th>\n",
       "      <th>s_defense</th>\n",
       "      <th>speed</th>\n",
       "      <th>type</th>\n",
       "      <th>evo_set</th>\n",
       "      <th>info</th>\n",
       "      <th>type_clean</th>\n",
       "      <th>type_primary</th>\n",
       "      <th>type_secondary</th>\n",
       "      <th>desc_clean</th>\n",
       "    </tr>\n",
       "  </thead>\n",
       "  <tbody>\n",
       "    <tr>\n",
       "      <th>0</th>\n",
       "      <td>1</td>\n",
       "      <td>bulbasaur</td>\n",
       "      <td>7</td>\n",
       "      <td>69</td>\n",
       "      <td>45</td>\n",
       "      <td>49</td>\n",
       "      <td>49</td>\n",
       "      <td>65</td>\n",
       "      <td>65</td>\n",
       "      <td>45</td>\n",
       "      <td>{grass,poison}</td>\n",
       "      <td>1</td>\n",
       "      <td>A strange seed was planted on its back at birt...</td>\n",
       "      <td>grass-poison</td>\n",
       "      <td>grass</td>\n",
       "      <td>poison</td>\n",
       "      <td>strange seed planted back birth plant sprouts ...</td>\n",
       "    </tr>\n",
       "    <tr>\n",
       "      <th>1</th>\n",
       "      <td>2</td>\n",
       "      <td>ivysaur</td>\n",
       "      <td>10</td>\n",
       "      <td>130</td>\n",
       "      <td>60</td>\n",
       "      <td>62</td>\n",
       "      <td>63</td>\n",
       "      <td>80</td>\n",
       "      <td>80</td>\n",
       "      <td>60</td>\n",
       "      <td>{grass,poison}</td>\n",
       "      <td>1</td>\n",
       "      <td>When the bulb on its back grows large, it appe...</td>\n",
       "      <td>grass-poison</td>\n",
       "      <td>grass</td>\n",
       "      <td>poison</td>\n",
       "      <td>bulb back grows large appears lose ability sta...</td>\n",
       "    </tr>\n",
       "    <tr>\n",
       "      <th>2</th>\n",
       "      <td>3</td>\n",
       "      <td>venusaur</td>\n",
       "      <td>20</td>\n",
       "      <td>1000</td>\n",
       "      <td>80</td>\n",
       "      <td>82</td>\n",
       "      <td>83</td>\n",
       "      <td>100</td>\n",
       "      <td>100</td>\n",
       "      <td>80</td>\n",
       "      <td>{grass,poison}</td>\n",
       "      <td>1</td>\n",
       "      <td>The plant blooms when it is absorbing solar en...</td>\n",
       "      <td>grass-poison</td>\n",
       "      <td>grass</td>\n",
       "      <td>poison</td>\n",
       "      <td>plant blooms absorbing solar energy stays move...</td>\n",
       "    </tr>\n",
       "  </tbody>\n",
       "</table>\n",
       "</div>"
      ],
      "text/plain": [
       "   id       name  height  weight  hp  attack  defense  s_attack  s_defense  \\\n",
       "0   1  bulbasaur       7      69  45      49       49        65         65   \n",
       "1   2    ivysaur      10     130  60      62       63        80         80   \n",
       "2   3   venusaur      20    1000  80      82       83       100        100   \n",
       "\n",
       "   speed            type  evo_set  \\\n",
       "0     45  {grass,poison}        1   \n",
       "1     60  {grass,poison}        1   \n",
       "2     80  {grass,poison}        1   \n",
       "\n",
       "                                                info    type_clean  \\\n",
       "0  A strange seed was planted on its back at birt...  grass-poison   \n",
       "1  When the bulb on its back grows large, it appe...  grass-poison   \n",
       "2  The plant blooms when it is absorbing solar en...  grass-poison   \n",
       "\n",
       "  type_primary type_secondary  \\\n",
       "0        grass         poison   \n",
       "1        grass         poison   \n",
       "2        grass         poison   \n",
       "\n",
       "                                          desc_clean  \n",
       "0  strange seed planted back birth plant sprouts ...  \n",
       "1  bulb back grows large appears lose ability sta...  \n",
       "2  plant blooms absorbing solar energy stays move...  "
      ]
     },
     "execution_count": 81,
     "metadata": {},
     "output_type": "execute_result"
    }
   ],
   "source": [
    "# jupyter notebook\n",
    "#source venv/bin/activate\n",
    "#docker build -t my-jupyter .\n",
    "#features = pokemon descriptions, height, weight, stats?\n",
    "#labels = type\n",
    "\n",
    "def clean_type(type):\n",
    "    types = type.strip(\"{}\").split(\",\")\n",
    "    types = [t.strip().lower() for t in types]\n",
    "    if len(types) == 1:\n",
    "        return types[0]\n",
    "    return f\"{types[0]}-{types[1]}\"\n",
    "\n",
    "def type_primary(type):\n",
    "    types = type.strip(\"{}\").split(\",\")\n",
    "    types = [t.strip().lower() for t in types] \n",
    "    return types[0]\n",
    "\n",
    "def type_secondary(type):\n",
    "    types = type.strip(\"{}\").split(\",\")\n",
    "    types = [t.strip().lower() for t in types] \n",
    "    if len(types) == 2:\n",
    "        return types[1]\n",
    "    return \"None\"\n",
    "\n",
    "def remove_stopwords(description):\n",
    "    stop_words = set(stopwords.words(\"english\"))\n",
    "    words = description.split()\n",
    "    filtered = [word for word in words if word.lower() not in stop_words]\n",
    "    return \" \".join(filtered)\n",
    "    \n",
    "nltk.download('stopwords')\n",
    "pokemon = pd.read_csv(\"../Data/pokedex.csv\")\n",
    "pokemon[\"type_clean\"] = pokemon[\"type\"].apply(clean_type)\n",
    "pokemon[\"type_primary\"] = pokemon[\"type\"].apply(type_primary)\n",
    "pokemon[\"type_secondary\"] = pokemon[\"type\"].apply(type_secondary)\n",
    "pokemon[\"desc_clean\"] = pokemon[\"info\"].str.lower().str.replace(r\"[^a-z\\s]\", \"\", regex=True)\n",
    "pokemon[\"desc_clean\"] = pokemon[\"desc_clean\"].apply(remove_stopwords)\n",
    "pokemon.head(3)\n",
    "#pokemon[\"type_primary\"].value_counts().plot(kind=\"bar\")\n",
    "#there's a disproportianate amount of water and normal types?\n",
    "\n",
    "        \n",
    "\n"
   ]
  },
  {
   "cell_type": "markdown",
   "metadata": {},
   "source": [
    "## Features"
   ]
  },
  {
   "cell_type": "code",
   "execution_count": 95,
   "metadata": {},
   "outputs": [],
   "source": [
    "x = pokemon[\"desc_clean\"] #features\n",
    "y = pokemon[\"type_primary\"] #labels\n",
    "X_train, X_test, y_train, y_test = train_test_split(\n",
    "    x, y, test_size=0.2, random_state=4, stratify=y\n",
    ")\n",
    "\n",
    "vectorizer = CountVectorizer(ngram_range=(1, 2))\n",
    "X_train_vec = vectorizer.fit_transform(X_train)\n",
    "X_test_vec = vectorizer.transform(X_test)\n"
   ]
  },
  {
   "cell_type": "markdown",
   "metadata": {},
   "source": [
    "## Label Encoding"
   ]
  },
  {
   "cell_type": "code",
   "execution_count": 96,
   "metadata": {},
   "outputs": [],
   "source": [
    "label_train = y_train\n",
    "label_test = y_test\n",
    "\n",
    "encoder = LabelEncoder()\n",
    "encoder.fit(pokemon[\"type_primary\"])\n",
    "\n",
    "label_train_enc = encoder.transform(label_train)\n",
    "label_test_enc = encoder.transform(label_test)\n"
   ]
  },
  {
   "cell_type": "markdown",
   "metadata": {},
   "source": [
    "## Model"
   ]
  },
  {
   "cell_type": "code",
   "execution_count": 98,
   "metadata": {},
   "outputs": [],
   "source": [
    "model = LogisticRegression(max_iter=1000, class_weight=\"balanced\", solver=\"liblinear\")\n",
    "model.fit(X_train_vec, label_train_enc)\n",
    "type_pred_enc = model.predict(X_test_vec)\n",
    "type_pred = encoder.inverse_transform(type_pred_enc)"
   ]
  },
  {
   "cell_type": "markdown",
   "metadata": {},
   "source": [
    "## Evaulate"
   ]
  },
  {
   "cell_type": "code",
   "execution_count": 99,
   "metadata": {},
   "outputs": [
    {
     "name": "stdout",
     "output_type": "stream",
     "text": [
      "              precision    recall  f1-score   support\n",
      "\n",
      "         bug       0.26      0.31      0.29        16\n",
      "        dark       0.00      0.00      0.00         9\n",
      "      dragon       0.00      0.00      0.00         7\n",
      "    electric       0.86      0.50      0.63        12\n",
      "       fairy       0.00      0.00      0.00         6\n",
      "    fighting       1.00      0.12      0.22         8\n",
      "        fire       0.83      0.38      0.53        13\n",
      "      flying       0.00      0.00      0.00         2\n",
      "       ghost       0.25      0.14      0.18         7\n",
      "       grass       0.41      0.43      0.42        21\n",
      "      ground       0.00      0.00      0.00         8\n",
      "         ice       0.67      0.33      0.44         6\n",
      "      normal       0.29      0.58      0.39        24\n",
      "      poison       0.25      0.12      0.17         8\n",
      "     psychic       0.40      0.50      0.44        12\n",
      "        rock       0.23      0.25      0.24        12\n",
      "       steel       0.00      0.00      0.00         7\n",
      "       water       0.36      0.67      0.47        27\n",
      "\n",
      "    accuracy                           0.35       205\n",
      "   macro avg       0.32      0.24      0.25       205\n",
      "weighted avg       0.36      0.35      0.32       205\n",
      "\n"
     ]
    },
    {
     "name": "stderr",
     "output_type": "stream",
     "text": [
      "/home/db/NLP/PokeWhom/venv/lib/python3.12/site-packages/sklearn/metrics/_classification.py:1565: UndefinedMetricWarning: Precision is ill-defined and being set to 0.0 in labels with no predicted samples. Use `zero_division` parameter to control this behavior.\n",
      "  _warn_prf(average, modifier, f\"{metric.capitalize()} is\", len(result))\n",
      "/home/db/NLP/PokeWhom/venv/lib/python3.12/site-packages/sklearn/metrics/_classification.py:1565: UndefinedMetricWarning: Precision is ill-defined and being set to 0.0 in labels with no predicted samples. Use `zero_division` parameter to control this behavior.\n",
      "  _warn_prf(average, modifier, f\"{metric.capitalize()} is\", len(result))\n",
      "/home/db/NLP/PokeWhom/venv/lib/python3.12/site-packages/sklearn/metrics/_classification.py:1565: UndefinedMetricWarning: Precision is ill-defined and being set to 0.0 in labels with no predicted samples. Use `zero_division` parameter to control this behavior.\n",
      "  _warn_prf(average, modifier, f\"{metric.capitalize()} is\", len(result))\n"
     ]
    }
   ],
   "source": [
    "print(classification_report(label_test, type_pred))"
   ]
  }
 ],
 "metadata": {
  "kernelspec": {
   "display_name": "venv",
   "language": "python",
   "name": "python3"
  },
  "language_info": {
   "codemirror_mode": {
    "name": "ipython",
    "version": 3
   },
   "file_extension": ".py",
   "mimetype": "text/x-python",
   "name": "python",
   "nbconvert_exporter": "python",
   "pygments_lexer": "ipython3",
   "version": "3.12.3"
  }
 },
 "nbformat": 4,
 "nbformat_minor": 2
}
