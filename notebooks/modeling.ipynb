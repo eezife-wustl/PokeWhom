{
 "cells": [
  {
   "cell_type": "markdown",
   "metadata": {},
   "source": [
    "# PokeWhom Project"
   ]
  },
  {
   "cell_type": "markdown",
   "metadata": {},
   "source": [
    "## Imports"
   ]
  },
  {
   "cell_type": "code",
   "execution_count": 60,
   "metadata": {},
   "outputs": [],
   "source": [
    "import sklearn\n",
    "from sklearn.feature_extraction.text import CountVectorizer\n",
    "from sklearn.feature_extraction.text import TfidfVectorizer\n",
    "from sklearn.linear_model import LogisticRegression\n",
    "from sklearn.linear_model import LogisticRegressionCV\n",
    "from sklearn.preprocessing import LabelEncoder\n",
    "from sklearn.model_selection import train_test_split\n",
    "import ast\n",
    "import itertools\n",
    "import numpy as np # linear algebra\n",
    "import pandas as pd # data processing, CSV file I/O (e.g. pd.read_csv)\n",
    "from sklearn.metrics import classification_report\n",
    "import matplotlib.pyplot as plt"
   ]
  },
  {
   "cell_type": "markdown",
   "metadata": {},
   "source": [
    "## Read Data and Clean"
   ]
  },
  {
   "cell_type": "code",
   "execution_count": null,
   "metadata": {},
   "outputs": [
    {
     "data": {
      "text/plain": [
       "<Axes: xlabel='type_primary'>"
      ]
     },
     "execution_count": 61,
     "metadata": {},
     "output_type": "execute_result"
    },
    {
     "data": {
      "image/png": "[encoded data removed]",
      "text/plain": [
       "<Figure size 640x480 with 1 Axes>"
      ]
     },
     "metadata": {},
     "output_type": "display_data"
    }
   ],
   "source": [
    "# jupyter notebook\n",
    "#source venv/bin/activate\n",
    "#docker build -t my-jupyter .\n",
    "#features = pokemon descriptions, height, weight, stats?\n",
    "#labels = type\n",
    "\n",
    "def clean_type(type):\n",
    "    types = type.strip(\"{}\").split(\",\")\n",
    "    types = [t.strip().lower() for t in types]\n",
    "    if len(types) == 1:\n",
    "        return types[0]\n",
    "    return f\"{types[0]}-{types[1]}\"\n",
    "\n",
    "def type_primary(type):\n",
    "    types = type.strip(\"{}\").split(\",\")\n",
    "    types = [t.strip().lower() for t in types] \n",
    "    return types[0]\n",
    "\n",
    "def type_secondary(type):\n",
    "    types = type.strip(\"{}\").split(\",\")\n",
    "    types = [t.strip().lower() for t in types] \n",
    "    if len(types) == 2:\n",
    "        return types[1]\n",
    "    return \"None\"\n",
    "\n",
    "pokemon = pd.read_csv(\"../Data/pokedex.csv\")\n",
    "pokemon[\"type_clean\"] = pokemon[\"type\"].apply(clean_type)\n",
    "pokemon[\"type_primary\"] = pokemon[\"type\"].apply(type_primary)\n",
    "pokemon[\"type_secondary\"] = pokemon[\"type\"].apply(type_secondary)\n",
    "pokemon[\"desc_clean\"] = pokemon[\"info\"].str.lower().str.replace(r\"[^a-z\\s]\", \"\", regex=True)\n",
    "pokemon.head(3)\n",
    "pokemon[\"type_primary\"].value_counts().plot(kind=\"bar\")\n",
    "#there's a disproportianate amount of water and normal types?\n",
    "\n",
    "        \n",
    "\n"
   ]
  },
  {
   "cell_type": "markdown",
   "metadata": {},
   "source": [
    "## Features"
   ]
  },
  {
   "cell_type": "code",
   "execution_count": 52,
   "metadata": {},
   "outputs": [],
   "source": [
    "train_df, test_df = train_test_split(pokemon, test_size=0.2, random_state=4, stratify=pokemon[\"type_primary\"])\n",
    "vectorizer = CountVectorizer(ngram_range=(1, 2))\n",
    "#features\n",
    "features_train = vectorizer.fit_transform(train_df[\"desc_clean\"])\n",
    "features_test = vectorizer.transform(test_df[\"desc_clean\"])\n",
    "#labels"
   ]
  },
  {
   "cell_type": "markdown",
   "metadata": {},
   "source": [
    "## Label Encoding"
   ]
  },
  {
   "cell_type": "code",
   "execution_count": 53,
   "metadata": {},
   "outputs": [],
   "source": [
    "label_train = train_df[\"type_primary\"]\n",
    "label_test = test_df[\"type_primary\"]\n",
    "\n",
    "encoder = LabelEncoder()\n",
    "encoder.fit(pokemon[\"type_primary\"])\n",
    "\n",
    "label_train_enc = encoder.transform(label_train)\n",
    "label_test_enc = encoder.transform(label_test)\n"
   ]
  },
  {
   "cell_type": "markdown",
   "metadata": {},
   "source": [
    "## Model"
   ]
  },
  {
   "cell_type": "code",
   "execution_count": 56,
   "metadata": {},
   "outputs": [],
   "source": [
    "model = LogisticRegression(max_iter=1000, class_weight=\"balanced\", solver=\"liblinear\")\n",
    "model.fit(features_train, label_train_enc)\n",
    "type_pred_enc = model.predict(features_test)\n",
    "type_pred = encoder.inverse_transform(type_pred_enc)"
   ]
  },
  {
   "cell_type": "markdown",
   "metadata": {},
   "source": [
    "## Evaulate"
   ]
  },
  {
   "cell_type": "code",
   "execution_count": 57,
   "metadata": {},
   "outputs": [
    {
     "name": "stdout",
     "output_type": "stream",
     "text": [
      "              precision    recall  f1-score   support\n",
      "\n",
      "         bug       0.15      0.19      0.17        16\n",
      "        dark       0.00      0.00      0.00         9\n",
      "      dragon       0.00      0.00      0.00         7\n",
      "    electric       0.71      0.42      0.53        12\n",
      "       fairy       0.00      0.00      0.00         6\n",
      "    fighting       0.00      0.00      0.00         8\n",
      "        fire       0.38      0.38      0.38        13\n",
      "      flying       0.00      0.00      0.00         2\n",
      "       ghost       0.25      0.14      0.18         7\n",
      "       grass       0.22      0.33      0.26        21\n",
      "      ground       0.00      0.00      0.00         8\n",
      "         ice       0.50      0.33      0.40         6\n",
      "      normal       0.30      0.46      0.36        24\n",
      "      poison       0.00      0.00      0.00         8\n",
      "     psychic       0.41      0.58      0.48        12\n",
      "        rock       0.29      0.17      0.21        12\n",
      "       steel       0.00      0.00      0.00         7\n",
      "       water       0.34      0.56      0.42        27\n",
      "\n",
      "    accuracy                           0.28       205\n",
      "   macro avg       0.20      0.20      0.19       205\n",
      "weighted avg       0.24      0.28      0.25       205\n",
      "\n"
     ]
    },
    {
     "name": "stderr",
     "output_type": "stream",
     "text": [
      "/home/db/NLP/PokeWhom/venv/lib/python3.12/site-packages/sklearn/metrics/_classification.py:1565: UndefinedMetricWarning: Precision is ill-defined and being set to 0.0 in labels with no predicted samples. Use `zero_division` parameter to control this behavior.\n",
      "  _warn_prf(average, modifier, f\"{metric.capitalize()} is\", len(result))\n",
      "/home/db/NLP/PokeWhom/venv/lib/python3.12/site-packages/sklearn/metrics/_classification.py:1565: UndefinedMetricWarning: Precision is ill-defined and being set to 0.0 in labels with no predicted samples. Use `zero_division` parameter to control this behavior.\n",
      "  _warn_prf(average, modifier, f\"{metric.capitalize()} is\", len(result))\n",
      "/home/db/NLP/PokeWhom/venv/lib/python3.12/site-packages/sklearn/metrics/_classification.py:1565: UndefinedMetricWarning: Precision is ill-defined and being set to 0.0 in labels with no predicted samples. Use `zero_division` parameter to control this behavior.\n",
      "  _warn_prf(average, modifier, f\"{metric.capitalize()} is\", len(result))\n"
     ]
    }
   ],
   "source": [
    "print(classification_report(label_test, type_pred))"
   ]
  }
 ],
 "metadata": {
  "kernelspec": {
   "display_name": "venv",
   "language": "python",
   "name": "python3"
  },
  "language_info": {
   "codemirror_mode": {
    "name": "ipython",
    "version": 3
   },
   "file_extension": ".py",
   "mimetype": "text/x-python",
   "name": "python",
   "nbconvert_exporter": "python",
   "pygments_lexer": "ipython3",
   "version": "3.12.3"
  }
 },
 "nbformat": 4,
 "nbformat_minor": 2
}
